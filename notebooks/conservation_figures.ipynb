{
 "cells": [
  {
   "cell_type": "code",
   "execution_count": 1,
   "id": "6160300e-2469-4178-8dad-5795a82e307a",
   "metadata": {},
   "outputs": [],
   "source": [
    "import vplanet_inference as vpi\n",
    "import vplanet\n",
    "import numpy as np\n",
    "import pandas as pd\n",
    "import scipy\n",
    "import os\n",
    "import astropy.units as u\n",
    "import multiprocessing as mp\n",
    "import tqdm\n",
    "\n",
    "# %matplotlib widget\n",
    "%matplotlib inline\n",
    "import matplotlib.pyplot as plt\n",
    "from matplotlib.ticker import AutoMinorLocator\n",
    "from matplotlib import rc\n",
    "plt.style.use('classic')\n",
    "rc('font', **{'family': 'serif', 'serif': ['Computer Modern']})\n",
    "rc('text', usetex=True)\n",
    "rc('figure', facecolor='w')\n",
    "rc('xtick', labelsize=35)\n",
    "rc('ytick', labelsize=35)"
   ]
  },
  {
   "cell_type": "code",
   "execution_count": 10,
   "id": "d864b9c1-69fd-4578-971e-e2965bcff61c",
   "metadata": {},
   "outputs": [],
   "source": [
    "INFILE_DIR = \"../infiles\"\n",
    "MB_MODEL = \"matt\"\n",
    "EXECUTABLE = \"vplanet\"\n",
    "\n",
    "outparams = {\n",
    "             \"final.primary.RotPer\": u.day, \n",
    "             \"final.primary.RotKinEnergy\": u.kg*u.m**2/u.s**2,\n",
    "             \"final.primary.TotOrbEnergy\": u.kg*u.m**2/u.s**2,\n",
    "             \"final.primary.LostEnergy\": u.kg*u.m**2/u.s**2,\n",
    "             \"final.primary.RotAngMom\": u.kg*u.m**2/u.s,\n",
    "             \"final.primary.LostAngMom\": u.kg*u.m**2/u.s,\n",
    "             \"final.primary.DRotPerDtStellar\": u.dimensionless_unscaled,\n",
    "             \"final.primary.DRotPerDtEqtide\": u.dimensionless_unscaled,\n",
    "             \"final.secondary.Eccentricity\": u.dimensionless_unscaled,\n",
    "             \"final.secondary.OrbPeriod\": u.day,\n",
    "             \"final.secondary.RotPer\": u.day,\n",
    "             \"final.secondary.SemiMajorAxis\": u.AU,\n",
    "             \"final.secondary.RotKinEnergy\": u.kg*u.m**2/u.s**2,\n",
    "             \"final.secondary.OrbEnergy\": u.kg*u.m**2/u.s**2,\n",
    "             \"final.secondary.TotOrbEnergy\": u.kg*u.m**2/u.s**2,\n",
    "             \"final.secondary.OrbPotEnergy\": u.kg*u.m**2/u.s**2,\n",
    "             \"final.secondary.LostEnergy\": u.kg*u.m**2/u.s**2,\n",
    "             \"final.secondary.RotAngMom\": u.kg*u.m**2/u.s,\n",
    "             \"final.secondary.OrbAngMom\": u.kg*u.m**2/u.s,\n",
    "             \"final.secondary.LostAngMom\": u.kg*u.m**2/u.s,\n",
    "}\n",
    "\n",
    "# ===========================================================\n",
    "# STELLAR CTL\n",
    "\n",
    "inparams = {\n",
    "            \"primary.dMass\": u.Msun, \n",
    "            \"secondary.dMass\": u.Msun, \n",
    "            \"primary.dRotPeriod\": u.day, \n",
    "            \"secondary.dRotPeriod\": u.day, \n",
    "            \"primary.dTidalTau\": u.dex(u.s), \n",
    "            \"secondary.dTidalTau\": u.dex(u.s), \n",
    "            \"secondary.dEcc\": u.dimensionless_unscaled, \n",
    "            \"secondary.dOrbPeriod\": u.day,\n",
    "            \"vpl.dStopTime\": u.Gyr\n",
    "}\n",
    "\n",
    "inpath = os.path.join(INFILE_DIR, f\"stellar_eqtide_{MB_MODEL}/ctl\")\n",
    "ctl = vpi.VplanetModel(inparams, inpath=inpath, outparams=outparams, timesteps=1e6*u.yr, time_init=5e6*u.yr, verbose=False, executable=EXECUTABLE)\n",
    "\n",
    "# ===========================================================\n",
    "# STELLAR CPL\n",
    "\n",
    "inparams = {\n",
    "            \"primary.dMass\": u.Msun, \n",
    "            \"secondary.dMass\": u.Msun, \n",
    "            \"primary.dRotPeriod\": u.day, \n",
    "            \"secondary.dRotPeriod\": u.day, \n",
    "            \"primary.dTidalQ\": u.dex(u.s), \n",
    "            \"secondary.dTidalQ\": u.dex(u.s), \n",
    "            \"secondary.dEcc\": u.dimensionless_unscaled, \n",
    "            \"secondary.dOrbPeriod\": u.day,\n",
    "            \"vpl.dStopTime\": u.Gyr\n",
    "}\n",
    "\n",
    "inpath = os.path.join(INFILE_DIR, f\"stellar_eqtide_{MB_MODEL}/cpl\")\n",
    "cpl = vpi.VplanetModel(inparams, inpath=inpath, outparams=outparams, timesteps=1e6*u.yr, time_init=5e6*u.yr, verbose=False, executable=EXECUTABLE)"
   ]
  },
  {
   "cell_type": "code",
   "execution_count": 11,
   "id": "4491bc55-d1ae-4ebe-b19b-e2a20042cf29",
   "metadata": {},
   "outputs": [],
   "source": [
    "def format_theta(tau):\n",
    "    return np.array([1.0, 1.0, 0.5, 0.5, tau, tau, 0.2, 5.0, 8.0])\n",
    "\n",
    "def plot_energy(evol, lw=2, title=None, fs=35):\n",
    "    \n",
    "    fig, ax = plt.subplots(1, 1, figsize=[12,12], dpi=300)\n",
    "    plt.plot(evol[\"Time\"], (evol[\"final.primary.LostEnergy\"]+evol[\"final.secondary.LostEnergy\"])/(1e40), color='r', linewidth=lw, label=\"Lost Energy\")\n",
    "    plt.plot(evol[\"Time\"], (evol[\"final.primary.RotKinEnergy\"]+evol[\"final.secondary.RotKinEnergy\"])/(1e40), color='b', linewidth=lw, label=\"Rotational Kinetic Energy\")\n",
    "    plt.plot(evol[\"Time\"], evol[\"final.secondary.OrbEnergy\"]/(1e40), color='g', linewidth=lw, label=\"Orbital Kinetic Energy\")\n",
    "    plt.plot(evol[\"Time\"], evol[\"final.secondary.OrbPotEnergy\"]/(1e40), color='m', linewidth=lw, label=\"Orbital Potential Energy\")\n",
    "\n",
    "    total_energy  = (evol[\"final.primary.LostEnergy\"]+evol[\"final.secondary.LostEnergy\"])/(1e40)\n",
    "    total_energy += (evol[\"final.primary.RotKinEnergy\"]+evol[\"final.secondary.RotKinEnergy\"])/(1e40)\n",
    "    # total_energy += evol[\"final.secondary.OrbEnergy\"]+evol[\"final.secondary.OrbPotEnergy\"]\n",
    "    total_energy += evol[\"final.secondary.TotOrbEnergy\"]/(1e40)\n",
    "    plt.plot(evol[\"Time\"], total_energy, color='k', linewidth=lw, linestyle=\"--\", label=\"Total Energy\")\n",
    "\n",
    "    if title is not None:\n",
    "        plt.title(title, fontsize=fs)\n",
    "    plt.xlabel(\"Time [yr]\", fontsize=fs)\n",
    "    plt.ylabel(r\"Energy [$10^{40}\\,$J]\", fontsize=fs)\n",
    "    plt.legend(loc='best', fontsize=fs-10, frameon=False)\n",
    "    plt.xscale('log')\n",
    "    plt.xlim(evol[\"Time\"][1].value, evol[\"Time\"][-1].value)\n",
    "    plt.ylim(-4, 1)\n",
    "    plt.minorticks_on()\n",
    "    ax.xaxis.set_tick_params(width=3, length=10, pad=15)\n",
    "    ax.yaxis.set_tick_params(width=3, length=10)\n",
    "    plt.close()\n",
    "    \n",
    "    return fig\n",
    "\n",
    "def plot_momentum(evol, lw=2, title=None, fs=35):\n",
    "    \n",
    "    fig, ax = plt.subplots(1, 1, figsize=[12,12], dpi=300)\n",
    "    plt.plot(evol[\"Time\"], evol[\"final.primary.LostAngMom\"]+evol[\"final.secondary.LostAngMom\"], color='r', linewidth=lw, label=\"Lost Angular Momentum\")\n",
    "    plt.plot(evol[\"Time\"], evol[\"final.primary.RotAngMom\"]+evol[\"final.secondary.RotAngMom\"], color='b', linewidth=lw, label=\"Rotational Angular Momentum\")\n",
    "    plt.plot(evol[\"Time\"], evol[\"final.secondary.OrbAngMom\"], color='g', linewidth=lw, label=\"Orbital Angular Momentum\")\n",
    "\n",
    "    total_energy  = evol[\"final.primary.LostAngMom\"]+evol[\"final.secondary.LostAngMom\"]\n",
    "    total_energy += evol[\"final.primary.RotAngMom\"]+evol[\"final.secondary.RotAngMom\"]\n",
    "    total_energy += evol[\"final.secondary.OrbAngMom\"]\n",
    "    plt.plot(evol[\"Time\"], total_energy, color='k', linewidth=lw, linestyle=\"--\", label=\"Total Momentum\")\n",
    "\n",
    "    if title is not None:\n",
    "        plt.title(title, fontsize=fs)\n",
    "    plt.xlabel(\"Time [yr]\", fontsize=fs)\n",
    "    plt.ylabel(r\"Angular Momentum [J$\\cdot$s]\", fontsize=fs)\n",
    "    plt.legend(loc='best', fontsize=fs-10, frameon=False)\n",
    "    plt.xscale('log')\n",
    "    plt.yscale('log')\n",
    "    plt.xlim(evol[\"Time\"][1].value, evol[\"Time\"][-1].value)\n",
    "    plt.ylim(1e40, 1e46)\n",
    "    plt.minorticks_on()\n",
    "    ax.xaxis.set_tick_params(width=3, length=10, pad=15)\n",
    "    ax.yaxis.set_tick_params(width=3, length=10)\n",
    "    plt.close()\n",
    "    \n",
    "    return fig"
   ]
  },
  {
   "cell_type": "code",
   "execution_count": 12,
   "id": "0d711fcb-70bf-4178-87cc-0e21e8071770",
   "metadata": {},
   "outputs": [],
   "source": [
    "tidal_tau = -1\n",
    "\n",
    "evol_ctl = ctl.run_model(format_theta(tidal_tau), outsubpath=\"ctl_stellar\", remove=False)"
   ]
  },
  {
   "cell_type": "code",
   "execution_count": 13,
   "id": "7bdd1d61-d5e2-4c92-a4af-d8f9cdf984d3",
   "metadata": {
    "tags": []
   },
   "outputs": [],
   "source": [
    "tidal_q = 6\n",
    "\n",
    "evol_cpl = cpl.run_model(format_theta(tidal_q), outsubpath=\"cpl_stellar\", remove=False)"
   ]
  },
  {
   "cell_type": "code",
   "execution_count": 14,
   "id": "755659ed-85a2-4c14-8fef-45951b548553",
   "metadata": {
    "tags": []
   },
   "outputs": [],
   "source": [
    "fig = plot_energy(evol_ctl, title=\"STELLAR+CTL\", lw=3, fs=40)\n",
    "fig.savefig(\"../figures/energy_conservation_ctl_stellar.png\", bbox_inches=\"tight\")"
   ]
  },
  {
   "cell_type": "code",
   "execution_count": 15,
   "id": "df2bfcfe-7111-4c63-a092-c564ec344ceb",
   "metadata": {},
   "outputs": [],
   "source": [
    "fig = plot_energy(evol_cpl, title=\"STELLAR+CPL\", lw=3, fs=40)\n",
    "fig.savefig(\"../figures/energy_conservation_cpl_stellar.png\", bbox_inches=\"tight\")"
   ]
  },
  {
   "cell_type": "code",
   "execution_count": 16,
   "id": "d39cce69-e408-4e5a-b3b6-b29613bca33e",
   "metadata": {},
   "outputs": [],
   "source": [
    "fig = plot_momentum(evol_ctl, title=\"STELLAR+CTL\", lw=3, fs=40)\n",
    "fig.savefig(\"../figures/momentum_conservation_ctl_stellar.png\", bbox_inches=\"tight\")"
   ]
  },
  {
   "cell_type": "code",
   "execution_count": 17,
   "id": "d8c8c99f-b6be-4440-8493-2631b7d1191b",
   "metadata": {},
   "outputs": [],
   "source": [
    "fig = plot_momentum(evol_cpl, title=\"STELLAR+CPL\", lw=3, fs=40)\n",
    "fig.savefig(\"../figures/momentum_conservation_cpl_stellar.png\", bbox_inches=\"tight\")"
   ]
  },
  {
   "cell_type": "code",
   "execution_count": null,
   "id": "a83fc515-52f3-4298-8bf9-b65dadc14178",
   "metadata": {},
   "outputs": [],
   "source": []
  }
 ],
 "metadata": {
  "kernelspec": {
   "display_name": "py39",
   "language": "python",
   "name": "py39"
  },
  "language_info": {
   "codemirror_mode": {
    "name": "ipython",
    "version": 3
   },
   "file_extension": ".py",
   "mimetype": "text/x-python",
   "name": "python",
   "nbconvert_exporter": "python",
   "pygments_lexer": "ipython3",
   "version": "3.9.12"
  }
 },
 "nbformat": 4,
 "nbformat_minor": 5
}
